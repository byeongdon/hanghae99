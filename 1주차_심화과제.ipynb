{
  "nbformat": 4,
  "nbformat_minor": 0,
  "metadata": {
    "colab": {
      "provenance": [],
      "gpuType": "T4",
      "include_colab_link": true
    },
    "kernelspec": {
      "name": "python3",
      "display_name": "Python 3"
    },
    "language_info": {
      "name": "python"
    },
    "accelerator": "GPU"
  },
  "cells": [
    {
      "cell_type": "markdown",
      "metadata": {
        "id": "view-in-github",
        "colab_type": "text"
      },
      "source": [
        "<a href=\"https://colab.research.google.com/github/byeongdon/hanghae99/blob/main/1%EC%A3%BC%EC%B0%A8_%EC%8B%AC%ED%99%94%EA%B3%BC%EC%A0%9C.ipynb\" target=\"_parent\"><img src=\"https://colab.research.google.com/assets/colab-badge.svg\" alt=\"Open In Colab\"/></a>"
      ]
    },
    {
      "cell_type": "markdown",
      "source": [
        "# MNIST CIFAR-10 차이점(from GPT)\n",
        "\n",
        "MNIST는 데이터가 너무 단순해서 대부분의 모델이 **거의 완벽한 정확도(>99%)**를 내요. 그래서:\n",
        "\n",
        "Optimizer 차이가 드러나지 않고,\n",
        "\n",
        "Activation function에 따른 변화도 미미하며,\n",
        "\n",
        "Dropout 같은 regularization 기법도 거의 영향이 없을 수 있어요.\n",
        "\n",
        "반면에 CIFAR-10은 진짜로:\n",
        "\n",
        "다양한 시각적 패턴이 존재하고,\n",
        "\n",
        "모델이 과적합(overfitting) 되기 쉬우며,\n",
        "\n",
        "일반화 성능 차이가 확실하게 나타나요.\n",
        "\n",
        "# 🔍 실험 항목별로 왜 중요한지 정리\n",
        "1. SGD vs Adam\n",
        "CIFAR-10처럼 복잡한 이미지 분류 문제에서는 Adam이 수렴 속도가 빠르고, 초반 성능이 뛰어남.\n",
        "\n",
        "하지만 SGD + momentum이 더 나은 일반화 성능을 보일 수도 있어요.\n",
        "\n",
        "⇒ 실험을 통해 trade-off를 직접 확인 가능\n",
        "\n",
        "2. Leaky ReLU vs Sigmoid\n",
        "Sigmoid는 gradient vanishing 문제로 깊은 네트워크에서는 거의 사용되지 않아요.\n",
        "\n",
        "Leaky ReLU는 **죽은 뉴런 문제(dead neuron)**를 완화하고 더 나은 성능을 냅니다.\n",
        "\n",
        "⇒ CIFAR-10에서는 이런 차이가 성능 격차로 드러납니다.\n",
        "\n",
        "3. Dropout 적용 전후 Generalization Error\n",
        "Dropout은 과적합을 줄이고 **훈련 vs 테스트 성능 차이(gap)**를 줄이기 위해 사용돼요.\n",
        "\n",
        "MNIST는 과적합 자체가 잘 안 일어나서 효과를 보기 어렵지만,\n",
        "\n",
        "CIFAR-10에서는 Dropout 유무에 따른 일반화 성능 차이가 명확히 보입니다.\n"
      ],
      "metadata": {
        "id": "cbpLYBgZX8zA"
      }
    },
    {
      "cell_type": "markdown",
      "source": [],
      "metadata": {
        "id": "b-Iaby8MYIjt"
      }
    },
    {
      "cell_type": "code",
      "execution_count": 17,
      "metadata": {
        "id": "6lXVfXoDtoQh"
      },
      "outputs": [],
      "source": [
        "import torch\n",
        "import torchvision\n",
        "import torchvision.transforms as transforms\n",
        "import numpy as np"
      ]
    },
    {
      "cell_type": "code",
      "source": [
        "transform = transforms.ToTensor()\n",
        "batch_size = 256\n",
        "\n",
        "trainset = torchvision.datasets.CIFAR10(\n",
        "    root='./data',\n",
        "    train=True,\n",
        "    download=True,\n",
        "    transform=transform\n",
        ")\n",
        "\n",
        "testset = torchvision.datasets.CIFAR10(\n",
        "    root='./data',\n",
        "    train=False,\n",
        "    download=True,\n",
        "    transform=transform\n",
        ")\n",
        "\n",
        "testloader = torch.utils.data.DataLoader(\n",
        "    testset,\n",
        "    batch_size=batch_size,\n",
        "    shuffle=False\n",
        ")\n",
        "\n",
        "trainloader = torch.utils.data.DataLoader(\n",
        "    trainset,\n",
        "    batch_size=batch_size,\n",
        "    shuffle=True\n",
        ")"
      ],
      "metadata": {
        "id": "KAYlqPaRt6ti"
      },
      "execution_count": 18,
      "outputs": []
    },
    {
      "cell_type": "code",
      "source": [
        "from matplotlib import pyplot as plt\n",
        "\n",
        "\n",
        "print(len(trainset))\n",
        "print(trainset[0][0].shape, trainset[0][1])\n",
        "plt.imshow(trainset[0][0][0], cmap='gray')"
      ],
      "metadata": {
        "id": "Zsp3sHmojyhT",
        "colab": {
          "base_uri": "https://localhost:8080/",
          "height": 482
        },
        "outputId": "97bafe47-0fcb-453a-b0aa-b961e05b918e"
      },
      "execution_count": 19,
      "outputs": [
        {
          "output_type": "stream",
          "name": "stdout",
          "text": [
            "50000\n",
            "torch.Size([3, 32, 32]) 6\n"
          ]
        },
        {
          "output_type": "execute_result",
          "data": {
            "text/plain": [
              "<matplotlib.image.AxesImage at 0x7c8b11c1acd0>"
            ]
          },
          "metadata": {},
          "execution_count": 19
        },
        {
          "output_type": "display_data",
          "data": {
            "text/plain": [
              "<Figure size 640x480 with 1 Axes>"
            ],
            "image/png": "[encoded data removed]"
          },
          "metadata": {}
        }
      ]
    },
    {
      "cell_type": "code",
      "source": [
        "dataiter = iter(trainloader)\n",
        "images, labels = next(dataiter)\n",
        "print(images.shape, labels.shape)"
      ],
      "metadata": {
        "id": "_Hd7XxyAvVNz",
        "colab": {
          "base_uri": "https://localhost:8080/"
        },
        "outputId": "854f3c05-e227-4945-8a45-6b4b36e8f085"
      },
      "execution_count": 20,
      "outputs": [
        {
          "output_type": "stream",
          "name": "stdout",
          "text": [
            "torch.Size([256, 3, 32, 32]) torch.Size([256])\n"
          ]
        }
      ]
    },
    {
      "cell_type": "code",
      "source": [
        "from torch import nn\n",
        "\n",
        "\n",
        "class Model(nn.Module):\n",
        "  def __init__(self, input_dim, n_dim):\n",
        "    super().__init__()\n",
        "\n",
        "    self.layer1 = nn.Linear(input_dim, n_dim)\n",
        "    self.layer2 = nn.Linear(n_dim, n_dim)\n",
        "    self.layer3 = nn.Linear(n_dim, 10)\n",
        "\n",
        "    self.act = nn.LeakyReLU()\n",
        "\n",
        "  def forward(self, x):\n",
        "    x = torch.flatten(x, start_dim=1)\n",
        "    x = self.act(self.layer1(x))\n",
        "    x = self.act(self.layer2(x))\n",
        "    x = self.act(self.layer3(x))\n",
        "\n",
        "    return x\n",
        "\n",
        "\n",
        "model = Model(32 * 32 * 3, 1024)"
      ],
      "metadata": {
        "id": "OLOA-ZGTuVVG"
      },
      "execution_count": 21,
      "outputs": []
    },
    {
      "cell_type": "code",
      "source": [
        "def accuracy(model, dataloader):\n",
        "  cnt = 0\n",
        "  acc = 0\n",
        "\n",
        "  for data in dataloader:\n",
        "    inputs, labels = data\n",
        "    inputs, labels = inputs.to('cuda'), labels.to('cuda')\n",
        "\n",
        "    preds = model(inputs)\n",
        "    preds = torch.argmax(preds, dim=-1)\n",
        "\n",
        "    cnt += labels.shape[0]\n",
        "    acc += (labels == preds).sum().item()\n",
        "\n",
        "  return acc / cnt"
      ],
      "metadata": {
        "id": "z_OEoosRF7ku"
      },
      "execution_count": 22,
      "outputs": []
    },
    {
      "cell_type": "code",
      "source": [
        "from torch.optim import SGD,Adam\n",
        "\n",
        "\n",
        "lr = 0.001\n",
        "n_epochs = 50\n",
        "model = model.to('cuda')\n",
        "\n",
        "SGD_optimizer = SGD(model.parameters(), lr=lr)\n",
        "lose_fn = nn.CrossEntropyLoss()\n",
        "\n",
        "SGD_train_accs = []\n",
        "Adam_train_accs = []\n",
        "Adam_test_accs = []\n",
        "\n",
        "# SGD\n",
        "for epoch in range(n_epochs):\n",
        "  total_loss = 0.\n",
        "  for data in trainloader:\n",
        "    model.zero_grad()\n",
        "    inputs, labels = data\n",
        "    inputs, labels = inputs.to('cuda'), labels.to('cuda')\n",
        "\n",
        "    preds = model(inputs)\n",
        "    #loss = (preds[:, 0] - labels).pow(2).mean()\n",
        "    loss = lose_fn(preds, labels)\n",
        "    loss.backward()\n",
        "    SGD_optimizer.step()\n",
        "\n",
        "    total_loss += loss.item()\n",
        "\n",
        "  SGD_train_accs.append(accuracy(model, trainloader))\n",
        "\n",
        "  print(f\"Epoch {epoch:3d} | Loss: {total_loss}\")\n",
        "\n",
        "# Adam\n",
        "Adam_optimizer = Adam(model.parameters(), lr=lr)\n",
        "for epoch in range(n_epochs):\n",
        "  total_loss = 0.\n",
        "  for data in trainloader:\n",
        "    model.zero_grad()\n",
        "    inputs, labels = data\n",
        "    inputs, labels = inputs.to('cuda'), labels.to('cuda')\n",
        "\n",
        "    preds = model(inputs)\n",
        "    #loss = (preds[:, 0] - labels).pow(2).mean()\n",
        "    loss = lose_fn(preds, labels)\n",
        "    loss.backward()\n",
        "    Adam_optimizer.step()\n",
        "\n",
        "    total_loss += loss.item()\n",
        "\n",
        "  Adam_train_accs.append(accuracy(model, trainloader))\n",
        "  Adam_test_accs.append(accuracy(model, testloader))\n",
        "\n",
        "  print(f\"Epoch {epoch:3d} | Loss: {total_loss}\")\n",
        "\n",
        "\n"
      ],
      "metadata": {
        "id": "ypS0TcOlvBhZ",
        "colab": {
          "base_uri": "https://localhost:8080/"
        },
        "outputId": "07ed926c-983e-4c62-9611-6befc1cdd2ff"
      },
      "execution_count": 23,
      "outputs": [
        {
          "output_type": "stream",
          "name": "stdout",
          "text": [
            "Epoch   0 | Loss: 450.985089302063\n",
            "Epoch   1 | Loss: 449.75450110435486\n",
            "Epoch   2 | Loss: 448.77099108695984\n",
            "Epoch   3 | Loss: 447.8872334957123\n",
            "Epoch   4 | Loss: 446.4904828071594\n",
            "Epoch   5 | Loss: 445.0173795223236\n",
            "Epoch   6 | Loss: 443.6016538143158\n",
            "Epoch   7 | Loss: 442.1922233104706\n",
            "Epoch   8 | Loss: 440.76296401023865\n",
            "Epoch   9 | Loss: 439.2981607913971\n",
            "Epoch  10 | Loss: 437.8039560317993\n",
            "Epoch  11 | Loss: 436.3028619289398\n",
            "Epoch  12 | Loss: 434.8209390640259\n",
            "Epoch  13 | Loss: 433.338632106781\n",
            "Epoch  14 | Loss: 431.85849928855896\n",
            "Epoch  15 | Loss: 430.4512765407562\n",
            "Epoch  16 | Loss: 429.04317569732666\n",
            "Epoch  17 | Loss: 427.69741797447205\n",
            "Epoch  18 | Loss: 426.4165771007538\n",
            "Epoch  19 | Loss: 425.162273645401\n",
            "Epoch  20 | Loss: 423.9764506816864\n",
            "Epoch  21 | Loss: 422.75330114364624\n",
            "Epoch  22 | Loss: 421.69735741615295\n",
            "Epoch  23 | Loss: 420.76547026634216\n",
            "Epoch  24 | Loss: 419.80267238616943\n",
            "Epoch  25 | Loss: 418.8253960609436\n",
            "Epoch  26 | Loss: 417.97314715385437\n",
            "Epoch  27 | Loss: 417.11030530929565\n",
            "Epoch  28 | Loss: 416.2165229320526\n",
            "Epoch  29 | Loss: 415.5565984249115\n",
            "Epoch  30 | Loss: 414.9687502384186\n",
            "Epoch  31 | Loss: 414.26598739624023\n",
            "Epoch  32 | Loss: 413.60697770118713\n",
            "Epoch  33 | Loss: 412.90826630592346\n",
            "Epoch  34 | Loss: 412.47194647789\n",
            "Epoch  35 | Loss: 411.8805139064789\n",
            "Epoch  36 | Loss: 411.3712022304535\n",
            "Epoch  37 | Loss: 410.89969968795776\n",
            "Epoch  38 | Loss: 410.525422334671\n",
            "Epoch  39 | Loss: 409.9937299489975\n",
            "Epoch  40 | Loss: 409.06453239917755\n",
            "Epoch  41 | Loss: 406.90500032901764\n",
            "Epoch  42 | Loss: 405.84774708747864\n",
            "Epoch  43 | Loss: 404.7032744884491\n",
            "Epoch  44 | Loss: 402.02425169944763\n",
            "Epoch  45 | Loss: 400.26967799663544\n",
            "Epoch  46 | Loss: 399.19772255420685\n",
            "Epoch  47 | Loss: 398.13359236717224\n",
            "Epoch  48 | Loss: 397.16908264160156\n",
            "Epoch  49 | Loss: 396.3832142353058\n",
            "Epoch   0 | Loss: 463.83955216407776\n",
            "Epoch   1 | Loss: 430.91530203819275\n",
            "Epoch   2 | Loss: 404.92058289051056\n",
            "Epoch   3 | Loss: 392.1671326160431\n",
            "Epoch   4 | Loss: 379.03916215896606\n",
            "Epoch   5 | Loss: 367.6255878210068\n",
            "Epoch   6 | Loss: 357.6508992910385\n",
            "Epoch   7 | Loss: 348.18210709095\n",
            "Epoch   8 | Loss: 338.88475930690765\n",
            "Epoch   9 | Loss: 331.62436950206757\n",
            "Epoch  10 | Loss: 327.13784420490265\n",
            "Epoch  11 | Loss: 320.094132065773\n",
            "Epoch  12 | Loss: 314.56877839565277\n",
            "Epoch  13 | Loss: 309.81333088874817\n",
            "Epoch  14 | Loss: 306.317290186882\n",
            "Epoch  15 | Loss: 301.602933883667\n",
            "Epoch  16 | Loss: 296.2321697473526\n",
            "Epoch  17 | Loss: 293.34335136413574\n",
            "Epoch  18 | Loss: 291.2439628839493\n",
            "Epoch  19 | Loss: 286.1360230445862\n",
            "Epoch  20 | Loss: 282.9731651544571\n",
            "Epoch  21 | Loss: 279.71146845817566\n",
            "Epoch  22 | Loss: 278.4694765806198\n",
            "Epoch  23 | Loss: 275.0059176683426\n",
            "Epoch  24 | Loss: 272.97744607925415\n",
            "Epoch  25 | Loss: 271.1342271566391\n",
            "Epoch  26 | Loss: 268.0472093820572\n",
            "Epoch  27 | Loss: 264.27293157577515\n",
            "Epoch  28 | Loss: 263.1181879043579\n",
            "Epoch  29 | Loss: 262.10470366477966\n",
            "Epoch  30 | Loss: 258.1577628850937\n",
            "Epoch  31 | Loss: 255.57388079166412\n",
            "Epoch  32 | Loss: 254.42801105976105\n",
            "Epoch  33 | Loss: 251.6606092453003\n",
            "Epoch  34 | Loss: 248.46882736682892\n",
            "Epoch  35 | Loss: 245.36804473400116\n",
            "Epoch  36 | Loss: 244.23442161083221\n",
            "Epoch  37 | Loss: 242.75752294063568\n",
            "Epoch  38 | Loss: 238.5053027868271\n",
            "Epoch  39 | Loss: 237.28479504585266\n",
            "Epoch  40 | Loss: 233.78556382656097\n",
            "Epoch  41 | Loss: 232.0183186531067\n",
            "Epoch  42 | Loss: 229.1248204112053\n",
            "Epoch  43 | Loss: 228.0320463180542\n",
            "Epoch  44 | Loss: 223.76624262332916\n",
            "Epoch  45 | Loss: 223.46565318107605\n",
            "Epoch  46 | Loss: 220.3455668091774\n",
            "Epoch  47 | Loss: 220.36012971401215\n",
            "Epoch  48 | Loss: 214.2925306558609\n",
            "Epoch  49 | Loss: 212.35891830921173\n"
          ]
        }
      ]
    },
    {
      "cell_type": "code",
      "source": [
        "def plot_acc(SGD_train_accs, Adam_train_accs, label1, label2):\n",
        "  x = np.arange(len(SGD_train_accs))\n",
        "  y = np.arange(len(Adam_train_accs))\n",
        "\n",
        "  plt.plot(x, SGD_train_accs, label=label1)\n",
        "  plt.plot(y, Adam_train_accs, label=label2)\n",
        "  plt.legend()\n",
        "  plt.show()\n",
        "\n",
        "plot_acc(SGD_train_accs,Adam_train_accs, 'SGD', 'Adam')"
      ],
      "metadata": {
        "colab": {
          "base_uri": "https://localhost:8080/",
          "height": 430
        },
        "id": "uszggi8DTBpm",
        "outputId": "428c4a82-fa6b-4f5f-9a8a-93e3e3a3cdb1"
      },
      "execution_count": 24,
      "outputs": [
        {
          "output_type": "display_data",
          "data": {
            "text/plain": [
              "<Figure size 640x480 with 1 Axes>"
            ],
            "image/png": "[encoded data removed]"
          },
          "metadata": {}
        }
      ]
    },
    {
      "cell_type": "code",
      "source": [
        "class Model2(nn.Module):\n",
        "  def __init__(self, input_dim, n_dim):\n",
        "    super().__init__()\n",
        "\n",
        "    self.layer1 = nn.Linear(input_dim, n_dim)\n",
        "    self.layer2 = nn.Linear(n_dim, n_dim)\n",
        "    self.layer3 = nn.Linear(n_dim, 10)\n",
        "\n",
        "    self.act = nn.Sigmoid()\n",
        "\n",
        "  def forward(self, x):\n",
        "    x = torch.flatten(x, start_dim=1)\n",
        "    x = self.act(self.layer1(x))\n",
        "    x = self.act(self.layer2(x))\n",
        "    x = self.act(self.layer3(x))\n",
        "\n",
        "    return x\n",
        "\n",
        "\n",
        "model = Model2(32 * 32 * 3, 1024)"
      ],
      "metadata": {
        "id": "aTJn-_rrgnI1"
      },
      "execution_count": 25,
      "outputs": []
    },
    {
      "cell_type": "code",
      "source": [
        "from torch.optim import Adam\n",
        "\n",
        "\n",
        "lr = 0.001\n",
        "n_epochs = 50\n",
        "model = model.to('cuda')\n",
        "\n",
        "Sigmoid_train_accs = []\n",
        "\n",
        "Adam_optimizer = Adam(model.parameters(), lr=lr)\n",
        "for epoch in range(n_epochs):\n",
        "  total_loss = 0.\n",
        "  for data in trainloader:\n",
        "    model.zero_grad()\n",
        "    inputs, labels = data\n",
        "    inputs, labels = inputs.to('cuda'), labels.to('cuda')\n",
        "\n",
        "    preds = model(inputs)\n",
        "    #loss = (preds[:, 0] - labels).pow(2).mean()\n",
        "    loss = lose_fn(preds, labels)\n",
        "    loss.backward()\n",
        "    Adam_optimizer.step()\n",
        "\n",
        "    total_loss += loss.item()\n",
        "\n",
        "  Sigmoid_train_accs.append(accuracy(model, trainloader))\n",
        "\n",
        "  print(f\"Epoch {epoch:3d} | Loss: {total_loss}\")\n",
        "\n",
        "plot_acc(Adam_train_accs,Sigmoid_train_accs,'relu', 'Sigmoid')"
      ],
      "metadata": {
        "id": "txxbS_nQ52iF",
        "colab": {
          "base_uri": "https://localhost:8080/",
          "height": 1000
        },
        "outputId": "f409c24f-d32b-4b88-a8e7-f1bfcb677a2b"
      },
      "execution_count": 26,
      "outputs": [
        {
          "output_type": "stream",
          "name": "stdout",
          "text": [
            "Epoch   0 | Loss: 411.7358024120331\n",
            "Epoch   1 | Loss: 395.47955203056335\n",
            "Epoch   2 | Loss: 387.43653178215027\n",
            "Epoch   3 | Loss: 384.18178033828735\n",
            "Epoch   4 | Loss: 381.49859261512756\n",
            "Epoch   5 | Loss: 379.4858865737915\n",
            "Epoch   6 | Loss: 377.63728737831116\n",
            "Epoch   7 | Loss: 375.76130175590515\n",
            "Epoch   8 | Loss: 374.06667125225067\n",
            "Epoch   9 | Loss: 372.7597955465317\n",
            "Epoch  10 | Loss: 371.99187886714935\n",
            "Epoch  11 | Loss: 370.1219183206558\n",
            "Epoch  12 | Loss: 369.10802459716797\n",
            "Epoch  13 | Loss: 368.5913722515106\n",
            "Epoch  14 | Loss: 367.67675817012787\n",
            "Epoch  15 | Loss: 367.3884688615799\n",
            "Epoch  16 | Loss: 366.205073595047\n",
            "Epoch  17 | Loss: 365.9779462814331\n",
            "Epoch  18 | Loss: 364.90113604068756\n",
            "Epoch  19 | Loss: 364.5002804994583\n",
            "Epoch  20 | Loss: 363.75139105319977\n",
            "Epoch  21 | Loss: 363.7377451658249\n",
            "Epoch  22 | Loss: 363.1669055223465\n",
            "Epoch  23 | Loss: 362.7860687971115\n",
            "Epoch  24 | Loss: 362.1954678297043\n",
            "Epoch  25 | Loss: 361.5468566417694\n",
            "Epoch  26 | Loss: 360.9575501680374\n",
            "Epoch  27 | Loss: 360.6134454011917\n",
            "Epoch  28 | Loss: 359.3878400325775\n",
            "Epoch  29 | Loss: 359.2845058441162\n",
            "Epoch  30 | Loss: 359.032333612442\n",
            "Epoch  31 | Loss: 358.40194845199585\n",
            "Epoch  32 | Loss: 357.90147829055786\n",
            "Epoch  33 | Loss: 357.80083763599396\n",
            "Epoch  34 | Loss: 356.71788692474365\n",
            "Epoch  35 | Loss: 357.1107876300812\n",
            "Epoch  36 | Loss: 356.74129045009613\n",
            "Epoch  37 | Loss: 355.8566464185715\n",
            "Epoch  38 | Loss: 355.405730843544\n",
            "Epoch  39 | Loss: 354.4872523546219\n",
            "Epoch  40 | Loss: 354.81501960754395\n",
            "Epoch  41 | Loss: 354.20057559013367\n",
            "Epoch  42 | Loss: 353.87611615657806\n",
            "Epoch  43 | Loss: 353.59519922733307\n",
            "Epoch  44 | Loss: 353.40696263313293\n",
            "Epoch  45 | Loss: 352.84134685993195\n",
            "Epoch  46 | Loss: 352.2903426885605\n",
            "Epoch  47 | Loss: 352.14447569847107\n",
            "Epoch  48 | Loss: 351.80402731895447\n",
            "Epoch  49 | Loss: 351.4353209733963\n"
          ]
        },
        {
          "output_type": "display_data",
          "data": {
            "text/plain": [
              "<Figure size 640x480 with 1 Axes>"
            ],
            "image/png": "[encoded data removed]"
          },
          "metadata": {}
        }
      ]
    },
    {
      "cell_type": "code",
      "source": [
        "class Model3(nn.Module):\n",
        "  def __init__(self, input_dim, n_dim):\n",
        "    super().__init__()\n",
        "\n",
        "    self.layer1 = nn.Linear(input_dim, n_dim)\n",
        "    self.layer2 = nn.Linear(n_dim, n_dim)\n",
        "    self.layer3 = nn.Linear(n_dim, 10)\n",
        "\n",
        "    self.act = nn.LeakyReLU()\n",
        "    self.dropout = 0.1\n",
        "\n",
        "  def forward(self, x):\n",
        "    x = torch.flatten(x, start_dim=1)\n",
        "    x = self.act(self.layer1(x))\n",
        "    x = self.act(self.layer2(x))\n",
        "    x = self.act(self.layer3(x))\n",
        "\n",
        "    return x\n",
        "\n",
        "\n"
      ],
      "metadata": {
        "id": "RB6HjnyiCoiR"
      },
      "execution_count": 27,
      "outputs": []
    },
    {
      "cell_type": "code",
      "source": [
        "model = Model3(32 * 32 * 3, 1024)\n",
        "model = model.to('cuda')\n",
        "n_epochs = 50\n",
        "\n",
        "optimizer = Adam(model.parameters(), lr=lr)\n",
        "train_dropout = []\n",
        "test_dropout = []\n",
        "\n",
        "for epoch in range(n_epochs):\n",
        "  total_loss = 0.\n",
        "  model.train()\n",
        "  for data in trainloader:\n",
        "    model.zero_grad()\n",
        "    inputs, labels = data\n",
        "    inputs, labels = inputs.to('cuda'), labels.to('cuda')\n",
        "\n",
        "    preds = model(inputs)\n",
        "    #loss = (preds[:, 0] - labels).pow(2).mean()\n",
        "    loss = lose_fn(preds, labels)\n",
        "    loss.backward()\n",
        "    optimizer.step()\n",
        "\n",
        "    total_loss += loss.item()\n",
        "  with torch.no_grad():\n",
        "    model.eval()\n",
        "    train_dropout.append(accuracy(model, trainloader))\n",
        "    test_dropout.append(accuracy(model, testloader))\n",
        "\n",
        "  print(f\"Epoch {epoch:3d} | Loss: {total_loss}\")\n"
      ],
      "metadata": {
        "colab": {
          "base_uri": "https://localhost:8080/"
        },
        "id": "TryX1hewvNiB",
        "outputId": "1947d899-3324-480d-bded-1be368091cef"
      },
      "execution_count": 28,
      "outputs": [
        {
          "output_type": "stream",
          "name": "stdout",
          "text": [
            "Epoch   0 | Loss: 422.49790477752686\n",
            "Epoch   1 | Loss: 383.61919915676117\n",
            "Epoch   2 | Loss: 362.01251661777496\n",
            "Epoch   3 | Loss: 344.7359335422516\n",
            "Epoch   4 | Loss: 334.79288375377655\n",
            "Epoch   5 | Loss: 323.4064863920212\n",
            "Epoch   6 | Loss: 314.07529389858246\n",
            "Epoch   7 | Loss: 307.0449186563492\n",
            "Epoch   8 | Loss: 301.84754288196564\n",
            "Epoch   9 | Loss: 294.84787774086\n",
            "Epoch  10 | Loss: 291.8619190454483\n",
            "Epoch  11 | Loss: 286.4416415691376\n",
            "Epoch  12 | Loss: 282.2058606147766\n",
            "Epoch  13 | Loss: 278.37726867198944\n",
            "Epoch  14 | Loss: 274.71383023262024\n",
            "Epoch  15 | Loss: 270.40477669239044\n",
            "Epoch  16 | Loss: 267.52684211730957\n",
            "Epoch  17 | Loss: 262.9168643951416\n",
            "Epoch  18 | Loss: 262.85021448135376\n",
            "Epoch  19 | Loss: 256.5290651321411\n",
            "Epoch  20 | Loss: 253.78711891174316\n",
            "Epoch  21 | Loss: 249.92454731464386\n",
            "Epoch  22 | Loss: 247.24354112148285\n",
            "Epoch  23 | Loss: 245.28547954559326\n",
            "Epoch  24 | Loss: 239.81597661972046\n",
            "Epoch  25 | Loss: 236.39290285110474\n",
            "Epoch  26 | Loss: 234.82790005207062\n",
            "Epoch  27 | Loss: 229.79950046539307\n",
            "Epoch  28 | Loss: 228.80175244808197\n",
            "Epoch  29 | Loss: 225.8721644282341\n",
            "Epoch  30 | Loss: 221.37535226345062\n",
            "Epoch  31 | Loss: 221.37027364969254\n",
            "Epoch  32 | Loss: 215.3865646123886\n",
            "Epoch  33 | Loss: 214.31845325231552\n",
            "Epoch  34 | Loss: 208.02038365602493\n",
            "Epoch  35 | Loss: 206.62149333953857\n",
            "Epoch  36 | Loss: 204.16113203763962\n",
            "Epoch  37 | Loss: 200.9304209947586\n",
            "Epoch  38 | Loss: 203.26840794086456\n",
            "Epoch  39 | Loss: 195.19748151302338\n",
            "Epoch  40 | Loss: 191.7481454014778\n",
            "Epoch  41 | Loss: 188.23301100730896\n",
            "Epoch  42 | Loss: 190.82376891374588\n",
            "Epoch  43 | Loss: 182.683875977993\n",
            "Epoch  44 | Loss: 179.47396236658096\n",
            "Epoch  45 | Loss: 177.67087841033936\n",
            "Epoch  46 | Loss: 176.96485340595245\n",
            "Epoch  47 | Loss: 170.5164094567299\n",
            "Epoch  48 | Loss: 171.14497381448746\n",
            "Epoch  49 | Loss: 178.96626955270767\n"
          ]
        }
      ]
    },
    {
      "cell_type": "code",
      "source": [
        "plot_acc(train_dropout,test_dropout,'train','test')"
      ],
      "metadata": {
        "id": "m6s13souF0J0",
        "colab": {
          "base_uri": "https://localhost:8080/",
          "height": 430
        },
        "outputId": "17259e57-8751-456f-d04a-3ea5e7100bcc"
      },
      "execution_count": 29,
      "outputs": [
        {
          "output_type": "display_data",
          "data": {
            "text/plain": [
              "<Figure size 640x480 with 1 Axes>"
            ],
            "image/png": "[encoded data removed]"
          },
          "metadata": {}
        }
      ]
    }
  ]
}