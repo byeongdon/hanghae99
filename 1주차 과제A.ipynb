{
  "nbformat": 4,
  "nbformat_minor": 0,
  "metadata": {
    "colab": {
      "provenance": [],
      "gpuType": "T4",
      "include_colab_link": true
    },
    "kernelspec": {
      "name": "python3",
      "display_name": "Python 3"
    },
    "language_info": {
      "name": "python"
    },
    "accelerator": "GPU"
  },
  "cells": [
    {
      "cell_type": "markdown",
      "metadata": {
        "id": "view-in-github",
        "colab_type": "text"
      },
      "source": [
        "<a href=\"https://colab.research.google.com/github/byeongdon/hanghae99/blob/main/1%EC%A3%BC%EC%B0%A8%20%EA%B3%BC%EC%A0%9CA.ipynb\" target=\"_parent\"><img src=\"https://colab.research.google.com/assets/colab-badge.svg\" alt=\"Open In Colab\"/></a>"
      ]
    },
    {
      "cell_type": "markdown",
      "source": [
        "# MNIST 실습\n",
        "\n",
        "이번에는 28x28 흑백 손글씨 이미지를 보고 0~9 사이의 숫자 중 어떤 숫자를 쓴 것인지 예측하는 문제를 실습합니다.\n",
        "이번 실습에서는 GPU를 활용할 것이기 때문에, 이전 챕터에서 Colab에서 GPU를 설정하는 방법을 따라해주시길 바랍니다.\n",
        "\n",
        "GPU를 설정했으면 library들을 import합니다."
      ],
      "metadata": {
        "id": "OPJenlrhihrh"
      }
    },
    {
      "cell_type": "code",
      "execution_count": 57,
      "metadata": {
        "id": "6lXVfXoDtoQh"
      },
      "outputs": [],
      "source": [
        "import torch\n",
        "import torchvision\n",
        "import torchvision.transforms as transforms"
      ]
    },
    {
      "cell_type": "code",
      "source": [
        "transform = transforms.ToTensor()\n",
        "batch_size = 256\n",
        "\n",
        "trainset = torchvision.datasets.MNIST(\n",
        "    root='./data',\n",
        "    train=True,\n",
        "    download=True,\n",
        "    transform=transform\n",
        ")\n",
        "\n",
        "testset = torchvision.datasets.MNIST(\n",
        "    root='./data',\n",
        "    train=False,\n",
        "    download=True,\n",
        "    transform=transform\n",
        ")\n",
        "\n",
        "testloader = torch.utils.data.DataLoader(\n",
        "    testset,\n",
        "    batch_size=batch_size,\n",
        "    shuffle=False\n",
        ")\n",
        "\n",
        "trainloader = torch.utils.data.DataLoader(\n",
        "    trainset,\n",
        "    batch_size=batch_size,\n",
        "    shuffle=True\n",
        ")"
      ],
      "metadata": {
        "id": "KAYlqPaRt6ti"
      },
      "execution_count": 58,
      "outputs": []
    },
    {
      "cell_type": "code",
      "source": [
        "from matplotlib import pyplot as plt\n",
        "\n",
        "\n",
        "print(len(trainset))\n",
        "print(trainset[0][0].shape, trainset[0][1])\n",
        "plt.imshow(trainset[0][0][0], cmap='gray')"
      ],
      "metadata": {
        "colab": {
          "base_uri": "https://localhost:8080/",
          "height": 482
        },
        "id": "Zsp3sHmojyhT",
        "outputId": "61f241f8-9dc0-4f4c-f11b-92f902750d2d"
      },
      "execution_count": 59,
      "outputs": [
        {
          "output_type": "stream",
          "name": "stdout",
          "text": [
            "60000\n",
            "torch.Size([1, 28, 28]) 5\n"
          ]
        },
        {
          "output_type": "execute_result",
          "data": {
            "text/plain": [
              "<matplotlib.image.AxesImage at 0x7cedd0377950>"
            ]
          },
          "metadata": {},
          "execution_count": 59
        },
        {
          "output_type": "display_data",
          "data": {
            "text/plain": [
              "<Figure size 640x480 with 1 Axes>"
            ],
            "image/png": "[encoded data removed]"
          },
          "metadata": {}
        }
      ]
    },
    {
      "cell_type": "code",
      "source": [
        "dataiter = iter(trainloader)\n",
        "images, labels = next(dataiter)\n",
        "print(images.shape, labels.shape)"
      ],
      "metadata": {
        "colab": {
          "base_uri": "https://localhost:8080/"
        },
        "id": "_Hd7XxyAvVNz",
        "outputId": "58aa5b17-b091-478b-f6f5-4227d9844c47"
      },
      "execution_count": 60,
      "outputs": [
        {
          "output_type": "stream",
          "name": "stdout",
          "text": [
            "torch.Size([256, 1, 28, 28]) torch.Size([256])\n"
          ]
        }
      ]
    },
    {
      "cell_type": "code",
      "source": [
        "from torch import nn\n",
        "\n",
        "\n",
        "class Model(nn.Module):\n",
        "  def __init__(self, input_dim, n_dim):\n",
        "    super().__init__()\n",
        "\n",
        "    self.layer1 = nn.Linear(input_dim, n_dim)\n",
        "    self.layer2 = nn.Linear(n_dim, n_dim)\n",
        "    self.layer3 = nn.Linear(n_dim, 10)\n",
        "\n",
        "    self.act = nn.ReLU()\n",
        "\n",
        "  def forward(self, x):\n",
        "    x = torch.flatten(x, start_dim=1)\n",
        "    x = self.act(self.layer1(x))\n",
        "    x = self.act(self.layer2(x))\n",
        "    x = self.act(self.layer3(x))\n",
        "\n",
        "    return x\n",
        "\n",
        "\n",
        "model = Model(28 * 28 * 1, 1024)"
      ],
      "metadata": {
        "id": "OLOA-ZGTuVVG"
      },
      "execution_count": 61,
      "outputs": []
    },
    {
      "cell_type": "code",
      "source": [
        "from torch.optim import SGD\n",
        "\n",
        "lr = 0.001\n",
        "model = model.to('cuda')\n",
        "\n",
        "optimizer = SGD(model.parameters(), lr=lr)"
      ],
      "metadata": {
        "id": "ypS0TcOlvBhZ"
      },
      "execution_count": 62,
      "outputs": []
    },
    {
      "cell_type": "code",
      "source": [
        "def accuracy(model, dataloader):\n",
        "  cnt = 0\n",
        "  acc = 0\n",
        "\n",
        "  for data in dataloader:\n",
        "    inputs, labels = data\n",
        "    inputs, labels = inputs.to('cuda'), labels.to('cuda')\n",
        "\n",
        "    preds = model(inputs)\n",
        "    preds = torch.argmax(preds, dim=-1)\n",
        "\n",
        "    cnt += labels.shape[0]\n",
        "    acc += (labels == preds).sum().item()\n",
        "\n",
        "  return acc / cnt"
      ],
      "metadata": {
        "id": "RB6HjnyiCoiR"
      },
      "execution_count": 63,
      "outputs": []
    },
    {
      "cell_type": "code",
      "source": [
        "n_epochs = 100\n",
        "lose_fn = nn.CrossEntropyLoss()\n",
        "\n",
        "train_accs = []\n",
        "test_accs = []\n",
        "\n",
        "for epoch in range(n_epochs):\n",
        "  total_loss = 0.\n",
        "  for data in trainloader:\n",
        "    model.zero_grad()\n",
        "    inputs, labels = data\n",
        "    inputs, labels = inputs.to('cuda'), labels.to('cuda')\n",
        "\n",
        "    preds = model(inputs)\n",
        "    #loss = (preds[:, 0] - labels).pow(2).mean()\n",
        "    loss = lose_fn(preds, labels)\n",
        "    loss.backward()\n",
        "    optimizer.step()\n",
        "\n",
        "    total_loss += loss.item()\n",
        "  for data in testloader:\n",
        "    model.zero_grad()\n",
        "    inputs, labels = data\n",
        "    inputs, labels = inputs.to('cuda'), labels.to('cuda')\n",
        "\n",
        "    preds = model(inputs)\n",
        "\n",
        "    loss = lose_fn(preds, labels)\n",
        "    loss.backward()\n",
        "    optimizer.step()\n",
        "\n",
        "    total_loss += loss.item()\n",
        "\n",
        "  train_accs.append(accuracy(model, trainloader))\n",
        "  test_accs.append(accuracy(model, testloader))\n",
        "\n",
        "  #print(f\"train_accs {train_accs}\")\n",
        "  #print(f\"test_accs {test_accs}\")\n",
        "  print(f\"Epoch {epoch:3d} | Loss: {total_loss}\")\n",
        "\n"
      ],
      "metadata": {
        "colab": {
          "base_uri": "https://localhost:8080/"
        },
        "id": "TryX1hewvNiB",
        "outputId": "ce465f9a-7d96-4b6d-94e1-7c41d61e064d"
      },
      "execution_count": 64,
      "outputs": [
        {
          "output_type": "stream",
          "name": "stdout",
          "text": [
            "Epoch   0 | Loss: 631.2251245975494\n",
            "Epoch   1 | Loss: 628.2503848075867\n",
            "Epoch   2 | Loss: 625.2298171520233\n",
            "Epoch   3 | Loss: 622.0289561748505\n",
            "Epoch   4 | Loss: 618.5621061325073\n",
            "Epoch   5 | Loss: 614.756541967392\n",
            "Epoch   6 | Loss: 610.5022473335266\n",
            "Epoch   7 | Loss: 605.7455470561981\n",
            "Epoch   8 | Loss: 600.3615806102753\n",
            "Epoch   9 | Loss: 594.27769780159\n",
            "Epoch  10 | Loss: 587.4242470264435\n",
            "Epoch  11 | Loss: 579.8608775138855\n",
            "Epoch  12 | Loss: 571.1383022069931\n",
            "Epoch  13 | Loss: 560.6080501079559\n",
            "Epoch  14 | Loss: 549.4567304849625\n",
            "Epoch  15 | Loss: 537.6541783809662\n",
            "Epoch  16 | Loss: 525.4604314565659\n",
            "Epoch  17 | Loss: 512.8304260969162\n",
            "Epoch  18 | Loss: 500.10843443870544\n",
            "Epoch  19 | Loss: 487.3215682506561\n",
            "Epoch  20 | Loss: 474.7226400375366\n",
            "Epoch  21 | Loss: 462.48104310035706\n",
            "Epoch  22 | Loss: 450.5585734844208\n",
            "Epoch  23 | Loss: 439.24824249744415\n",
            "Epoch  24 | Loss: 428.51967334747314\n",
            "Epoch  25 | Loss: 418.37723529338837\n",
            "Epoch  26 | Loss: 408.99678885936737\n",
            "Epoch  27 | Loss: 400.2786605358124\n",
            "Epoch  28 | Loss: 392.0750079154968\n",
            "Epoch  29 | Loss: 384.63154113292694\n",
            "Epoch  30 | Loss: 377.9646039009094\n",
            "Epoch  31 | Loss: 371.5578942298889\n",
            "Epoch  32 | Loss: 365.60421788692474\n",
            "Epoch  33 | Loss: 360.39203655719757\n",
            "Epoch  34 | Loss: 355.42538261413574\n",
            "Epoch  35 | Loss: 350.93601846694946\n",
            "Epoch  36 | Loss: 346.77960354089737\n",
            "Epoch  37 | Loss: 342.8333737850189\n",
            "Epoch  38 | Loss: 336.9778480529785\n",
            "Epoch  39 | Loss: 322.98554092645645\n",
            "Epoch  40 | Loss: 314.83922654390335\n",
            "Epoch  41 | Loss: 308.66898757219315\n",
            "Epoch  42 | Loss: 303.1018561720848\n",
            "Epoch  43 | Loss: 298.0221961736679\n",
            "Epoch  44 | Loss: 293.4119355082512\n",
            "Epoch  45 | Loss: 289.3143704533577\n",
            "Epoch  46 | Loss: 285.3467460870743\n",
            "Epoch  47 | Loss: 281.79041624069214\n",
            "Epoch  48 | Loss: 278.5261704325676\n",
            "Epoch  49 | Loss: 275.3099956512451\n",
            "Epoch  50 | Loss: 272.55017602443695\n",
            "Epoch  51 | Loss: 269.8995434641838\n",
            "Epoch  52 | Loss: 267.5466558933258\n",
            "Epoch  53 | Loss: 265.3180556297302\n",
            "Epoch  54 | Loss: 263.25628262758255\n",
            "Epoch  55 | Loss: 261.1754951477051\n",
            "Epoch  56 | Loss: 259.3218845129013\n",
            "Epoch  57 | Loss: 257.5161466598511\n",
            "Epoch  58 | Loss: 255.80720555782318\n",
            "Epoch  59 | Loss: 254.30780333280563\n",
            "Epoch  60 | Loss: 252.60428923368454\n",
            "Epoch  61 | Loss: 251.22254729270935\n",
            "Epoch  62 | Loss: 249.79438042640686\n",
            "Epoch  63 | Loss: 248.5493780374527\n",
            "Epoch  64 | Loss: 247.39869111776352\n",
            "Epoch  65 | Loss: 246.0884736776352\n",
            "Epoch  66 | Loss: 245.11864972114563\n",
            "Epoch  67 | Loss: 243.75871807336807\n",
            "Epoch  68 | Loss: 242.80279541015625\n",
            "Epoch  69 | Loss: 241.7414076924324\n",
            "Epoch  70 | Loss: 240.78196549415588\n",
            "Epoch  71 | Loss: 239.96821808815002\n",
            "Epoch  72 | Loss: 238.96200329065323\n",
            "Epoch  73 | Loss: 237.88272082805634\n",
            "Epoch  74 | Loss: 237.03977620601654\n",
            "Epoch  75 | Loss: 236.30277371406555\n",
            "Epoch  76 | Loss: 235.67024499177933\n",
            "Epoch  77 | Loss: 234.75762808322906\n",
            "Epoch  78 | Loss: 233.96952521800995\n",
            "Epoch  79 | Loss: 233.19293373823166\n",
            "Epoch  80 | Loss: 232.61492824554443\n",
            "Epoch  81 | Loss: 231.85554617643356\n",
            "Epoch  82 | Loss: 231.20121896266937\n",
            "Epoch  83 | Loss: 230.69836127758026\n",
            "Epoch  84 | Loss: 229.99008643627167\n",
            "Epoch  85 | Loss: 229.38581383228302\n",
            "Epoch  86 | Loss: 228.7814456820488\n",
            "Epoch  87 | Loss: 228.16608440876007\n",
            "Epoch  88 | Loss: 227.5264704823494\n",
            "Epoch  89 | Loss: 227.0472992658615\n",
            "Epoch  90 | Loss: 226.55543118715286\n",
            "Epoch  91 | Loss: 226.0293806195259\n",
            "Epoch  92 | Loss: 225.2712898850441\n",
            "Epoch  93 | Loss: 224.83847498893738\n",
            "Epoch  94 | Loss: 224.35466080904007\n",
            "Epoch  95 | Loss: 224.00995713472366\n",
            "Epoch  96 | Loss: 223.49734392762184\n",
            "Epoch  97 | Loss: 222.97322830557823\n",
            "Epoch  98 | Loss: 222.354406863451\n",
            "Epoch  99 | Loss: 222.24287828803062\n"
          ]
        }
      ]
    },
    {
      "cell_type": "code",
      "source": [
        "idx = 0\n",
        "\n",
        "x = trainset[idx][0][None]  # (1, 1, 28, 28)\n",
        "x = x.to('cuda')\n",
        "\n",
        "print(model(x))\n",
        "print(trainset[idx][1])"
      ],
      "metadata": {
        "id": "Zct0ssSKwjt1",
        "colab": {
          "base_uri": "https://localhost:8080/"
        },
        "outputId": "d418d311-87bf-4a55-c5c5-7b3948118185"
      },
      "execution_count": 65,
      "outputs": [
        {
          "output_type": "stream",
          "name": "stdout",
          "text": [
            "tensor([[0.5829, 0.0000, 0.0000, 3.6537, 0.0000, 3.9140, 0.0000, 0.0000, 0.0000,\n",
            "         0.0000]], device='cuda:0', grad_fn=<ReluBackward0>)\n",
            "5\n"
          ]
        }
      ]
    },
    {
      "cell_type": "code",
      "source": [
        "import numpy as np\n",
        "\n",
        "def plot_acc(train_accs, test_accs, label1='train', label2='test'):\n",
        "  x = np.arange(len(train_accs))\n",
        "\n",
        "  plt.plot(x, train_accs, label=label1)\n",
        "  plt.plot(x, test_accs, label=label2)\n",
        "  plt.legend()\n",
        "  plt.show()"
      ],
      "metadata": {
        "id": "zonkPqWGqlbx"
      },
      "execution_count": 66,
      "outputs": []
    },
    {
      "cell_type": "code",
      "source": [
        "plot_acc(train_accs,test_accs)"
      ],
      "metadata": {
        "colab": {
          "base_uri": "https://localhost:8080/",
          "height": 430
        },
        "id": "m6s13souF0J0",
        "outputId": "a1fe51b0-8eb9-4c47-a30c-e05e67a3b77a"
      },
      "execution_count": 67,
      "outputs": [
        {
          "output_type": "display_data",
          "data": {
            "text/plain": [
              "<Figure size 640x480 with 1 Axes>"
            ],
            "image/png": "[encoded data removed]"
          },
          "metadata": {}
        }
      ]
    }
  ]
}