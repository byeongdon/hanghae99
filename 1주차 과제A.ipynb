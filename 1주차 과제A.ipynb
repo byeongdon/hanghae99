{
  "nbformat": 4,
  "nbformat_minor": 0,
  "metadata": {
    "colab": {
      "provenance": [],
      "gpuType": "T4",
      "include_colab_link": true
    },
    "kernelspec": {
      "name": "python3",
      "display_name": "Python 3"
    },
    "language_info": {
      "name": "python"
    },
    "accelerator": "GPU"
  },
  "cells": [
    {
      "cell_type": "markdown",
      "metadata": {
        "id": "view-in-github",
        "colab_type": "text"
      },
      "source": [
        "<a href=\"https://colab.research.google.com/github/byeongdon/hanghae99/blob/main/1%EC%A3%BC%EC%B0%A8%20%EA%B3%BC%EC%A0%9CA.ipynb\" target=\"_parent\"><img src=\"https://colab.research.google.com/assets/colab-badge.svg\" alt=\"Open In Colab\"/></a>"
      ]
    },
    {
      "cell_type": "markdown",
      "source": [
        "# MNIST 실습\n",
        "\n",
        "이번에는 28x28 흑백 손글씨 이미지를 보고 0~9 사이의 숫자 중 어떤 숫자를 쓴 것인지 예측하는 문제를 실습합니다.\n",
        "이번 실습에서는 GPU를 활용할 것이기 때문에, 이전 챕터에서 Colab에서 GPU를 설정하는 방법을 따라해주시길 바랍니다.\n",
        "\n",
        "GPU를 설정했으면 library들을 import합니다."
      ],
      "metadata": {
        "id": "OPJenlrhihrh"
      }
    },
    {
      "cell_type": "code",
      "execution_count": null,
      "metadata": {
        "id": "6lXVfXoDtoQh"
      },
      "outputs": [],
      "source": [
        "import torch\n",
        "import torchvision\n",
        "import torchvision.transforms as transforms"
      ]
    },
    {
      "cell_type": "code",
      "source": [
        "transform = transforms.ToTensor()\n",
        "batch_size = 256\n",
        "\n",
        "trainset = torchvision.datasets.MNIST(\n",
        "    root='./data',\n",
        "    train=True, #시험범위를 준다는 느낌\n",
        "    download=True,\n",
        "    transform=transform\n",
        ")\n",
        "\n",
        "testset = torchvision.datasets.MNIST(\n",
        "    root='./data',\n",
        "    train=False,# 시험을 치르고 있는 느낌\n",
        "    download=True,\n",
        "    transform=transform\n",
        ")\n",
        "\n",
        "testloader = torch.utils.data.DataLoader(\n",
        "    testset,\n",
        "    batch_size=batch_size,\n",
        "    shuffle=False\n",
        ")\n",
        "\n",
        "trainloader = torch.utils.data.DataLoader(\n",
        "    trainset,\n",
        "    batch_size=batch_size,\n",
        "    shuffle=True\n",
        ")"
      ],
      "metadata": {
        "id": "KAYlqPaRt6ti"
      },
      "execution_count": null,
      "outputs": []
    },
    {
      "cell_type": "code",
      "source": [
        "from matplotlib import pyplot as plt\n",
        "\n",
        "\n",
        "print(len(trainset))\n",
        "print(trainset[0][0].shape, trainset[0][1])\n",
        "plt.imshow(trainset[0][0][0], cmap='gray')"
      ],
      "metadata": {
        "colab": {
          "base_uri": "https://localhost:8080/",
          "height": 482
        },
        "id": "Zsp3sHmojyhT",
        "outputId": "0e5115d2-9424-4853-fe4f-cbf5358c5351"
      },
      "execution_count": null,
      "outputs": [
        {
          "output_type": "stream",
          "name": "stdout",
          "text": [
            "60000\n",
            "torch.Size([1, 28, 28]) 5\n"
          ]
        },
        {
          "output_type": "execute_result",
          "data": {
            "text/plain": [
              "<matplotlib.image.AxesImage at 0x7f82d250b750>"
            ]
          },
          "metadata": {},
          "execution_count": 14
        },
        {
          "output_type": "display_data",
          "data": {
            "text/plain": [
              "<Figure size 640x480 with 1 Axes>"
            ],
            "image/png": "[encoded data removed]"
          },
          "metadata": {}
        }
      ]
    },
    {
      "cell_type": "code",
      "source": [
        "dataiter = iter(trainloader)\n",
        "images, labels = next(dataiter)\n",
        "print(images.shape, labels.shape)"
      ],
      "metadata": {
        "colab": {
          "base_uri": "https://localhost:8080/"
        },
        "id": "_Hd7XxyAvVNz",
        "outputId": "cdd4add7-807c-4f1f-99e2-31717f6bc725"
      },
      "execution_count": null,
      "outputs": [
        {
          "output_type": "stream",
          "name": "stdout",
          "text": [
            "torch.Size([256, 1, 28, 28]) torch.Size([256])\n"
          ]
        }
      ]
    },
    {
      "cell_type": "markdown",
      "source": [
        "input_dim = 20\n",
        "n_dim = 5라고 가정\n",
        "\n",
        "n_dim의 갯수는 데이터의 갯수가 많으면 숫자를 늘려야 되고,\n",
        "데이터 갯수가 적으면 숫자를 줄여야 됨. 단 테스트를 해봐야 알 수 있고, 어느 순간에 꺾이는 순간이 있음.\n",
        "\n",
        "layer1에서는 20, 5가 들어가고\n",
        "layer2에서는 5, 5\n",
        "layer3에서는 5,10\n",
        "\n",
        "즉, input_dim이 가로, n_dim이 세로라고 가정했을 때"
      ],
      "metadata": {
        "id": "-yGUSSXtQ8hr"
      }
    },
    {
      "cell_type": "code",
      "source": [
        "from torch import nn\n",
        "\n",
        "\n",
        "class Model(nn.Module):\n",
        "  def __init__(self, input_dim, n_dim):\n",
        "    super().__init__()\n",
        "\n",
        "    self.layer1 = nn.Linear(input_dim, n_dim) # port로 비교하자면 input_dim : 외부 port\n",
        "    print(self.layer1)\n",
        "    self.layer2 = nn.Linear(n_dim, n_dim)\n",
        "    print(self.layer2)\n",
        "    self.layer3 = nn.Linear(n_dim, 10) # 0~9 --> 가장 마지막에 나오는 숫자의 총 갯수\n",
        "    print(self.layer3)\n",
        "    self.act = nn.ReLU()\n",
        "\n",
        "  def forward(self, x):\n",
        "    x = torch.flatten(x, start_dim=1)\n",
        "    x = self.act(self.layer1(x))\n",
        "    x = self.act(self.layer2(x))\n",
        "    x = self.act(self.layer3(x))\n",
        "\n",
        "    return x\n",
        "\n",
        "\n",
        "model = Model(28 * 28 * 1, 1024)"
      ],
      "metadata": {
        "id": "OLOA-ZGTuVVG",
        "colab": {
          "base_uri": "https://localhost:8080/"
        },
        "outputId": "e40e1832-e5f3-4b01-ca4a-5647c2b8983f"
      },
      "execution_count": null,
      "outputs": [
        {
          "output_type": "stream",
          "name": "stdout",
          "text": [
            "Linear(in_features=784, out_features=1024, bias=True)\n",
            "Linear(in_features=1024, out_features=1024, bias=True)\n",
            "Linear(in_features=1024, out_features=10, bias=True)\n"
          ]
        }
      ]
    },
    {
      "cell_type": "code",
      "source": [
        "from torch.optim import SGD\n",
        "\n",
        "lr = 0.001\n",
        "model = model.to('cuda')\n",
        "\n",
        "optimizer = SGD(model.parameters(), lr=lr)"
      ],
      "metadata": {
        "id": "ypS0TcOlvBhZ"
      },
      "execution_count": null,
      "outputs": []
    },
    {
      "cell_type": "code",
      "source": [
        "def accuracy(model, dataloader):\n",
        "  cnt = 0\n",
        "  acc = 0\n",
        "\n",
        "  for data in dataloader:\n",
        "    inputs, labels = data\n",
        "    inputs, labels = inputs.to('cuda'), labels.to('cuda')\n",
        "\n",
        "    preds = model(inputs)\n",
        "    preds = torch.argmax(preds, dim=-1)\n",
        "\n",
        "    cnt += labels.shape[0]\n",
        "    acc += (labels == preds).sum().item()\n",
        "\n",
        "  return acc / cnt"
      ],
      "metadata": {
        "id": "RB6HjnyiCoiR"
      },
      "execution_count": null,
      "outputs": []
    },
    {
      "cell_type": "code",
      "source": [
        "n_epochs = 100\n",
        "lose_fn = nn.CrossEntropyLoss()\n",
        "\n",
        "train_accs = []\n",
        "test_accs = []\n",
        "\n",
        "for epoch in range(n_epochs):\n",
        "  total_loss = 0.\n",
        "  for data in trainloader:\n",
        "    model.zero_grad()\n",
        "    inputs, labels = data\n",
        "    inputs, labels = inputs.to('cuda'), labels.to('cuda')\n",
        "\n",
        "    preds = model(inputs)\n",
        "    #loss = (preds[:, 0] - labels).pow(2).mean()\n",
        "    loss = lose_fn(preds, labels)\n",
        "    loss.backward()\n",
        "    optimizer.step()\n",
        "\n",
        "    total_loss += loss.item()\n",
        "  for data in testloader:\n",
        "    model.zero_grad()\n",
        "    inputs, labels = data\n",
        "    inputs, labels = inputs.to('cuda'), labels.to('cuda')\n",
        "\n",
        "    preds = model(inputs)\n",
        "\n",
        "    #loss = lose_fn(preds, labels) --> test loader에서는 loss가 필요없음 loss를 주면 시험에서 오픈북시험과 같은 느낌\n",
        "    #loss.backward()\n",
        "    #optimizer.step()\n",
        "\n",
        "    #total_loss += loss.item()\n",
        "    #accuracy는 정확도만 판단\n",
        "  train_accs.append(accuracy(model, trainloader))\n",
        "  test_accs.append(accuracy(model, testloader))\n",
        "\n",
        "  #print(f\"train_accs {train_accs}\")\n",
        "  #print(f\"test_accs {test_accs}\")\n",
        "  print(f\"Epoch {epoch:3d} | Loss: {total_loss}\")\n",
        "\n"
      ],
      "metadata": {
        "colab": {
          "base_uri": "https://localhost:8080/"
        },
        "id": "TryX1hewvNiB",
        "outputId": "fcbb280b-2aef-4a0d-f808-489388025994"
      },
      "execution_count": null,
      "outputs": [
        {
          "output_type": "stream",
          "name": "stdout",
          "text": [
            "Epoch   0 | Loss: 540.7028851509094\n",
            "Epoch   1 | Loss: 538.9716310501099\n",
            "Epoch   2 | Loss: 536.9006097316742\n",
            "Epoch   3 | Loss: 534.3559894561768\n",
            "Epoch   4 | Loss: 531.5113217830658\n",
            "Epoch   5 | Loss: 528.4007785320282\n",
            "Epoch   6 | Loss: 524.798907995224\n",
            "Epoch   7 | Loss: 520.830774307251\n",
            "Epoch   8 | Loss: 516.4237825870514\n",
            "Epoch   9 | Loss: 511.5553095340729\n",
            "Epoch  10 | Loss: 506.0763485431671\n",
            "Epoch  11 | Loss: 499.8272330760956\n",
            "Epoch  12 | Loss: 492.52624464035034\n",
            "Epoch  13 | Loss: 484.4160737991333\n",
            "Epoch  14 | Loss: 475.3688782453537\n",
            "Epoch  15 | Loss: 465.2658029794693\n",
            "Epoch  16 | Loss: 454.235603928566\n",
            "Epoch  17 | Loss: 442.21871304512024\n",
            "Epoch  18 | Loss: 429.2546776533127\n",
            "Epoch  19 | Loss: 415.33577036857605\n",
            "Epoch  20 | Loss: 400.6672399044037\n",
            "Epoch  21 | Loss: 385.5184509754181\n",
            "Epoch  22 | Loss: 370.17298090457916\n",
            "Epoch  23 | Loss: 354.95949280261993\n",
            "Epoch  24 | Loss: 339.94816184043884\n",
            "Epoch  25 | Loss: 325.75297725200653\n",
            "Epoch  26 | Loss: 312.49476289749146\n",
            "Epoch  27 | Loss: 300.2056005001068\n",
            "Epoch  28 | Loss: 288.8053684234619\n",
            "Epoch  29 | Loss: 278.64620089530945\n",
            "Epoch  30 | Loss: 269.2620187997818\n",
            "Epoch  31 | Loss: 260.8441706895828\n",
            "Epoch  32 | Loss: 253.1035160422325\n",
            "Epoch  33 | Loss: 246.13303953409195\n",
            "Epoch  34 | Loss: 239.78168904781342\n",
            "Epoch  35 | Loss: 233.9406812787056\n",
            "Epoch  36 | Loss: 228.62924683094025\n",
            "Epoch  37 | Loss: 223.6742149591446\n",
            "Epoch  38 | Loss: 219.13841485977173\n",
            "Epoch  39 | Loss: 214.7738545536995\n",
            "Epoch  40 | Loss: 210.91704565286636\n",
            "Epoch  41 | Loss: 207.11387699842453\n",
            "Epoch  42 | Loss: 203.68508052825928\n",
            "Epoch  43 | Loss: 200.48173022270203\n",
            "Epoch  44 | Loss: 197.22417491674423\n",
            "Epoch  45 | Loss: 194.4503755569458\n",
            "Epoch  46 | Loss: 191.80617487430573\n",
            "Epoch  47 | Loss: 189.16527205705643\n",
            "Epoch  48 | Loss: 186.78991150856018\n",
            "Epoch  49 | Loss: 184.50755620002747\n",
            "Epoch  50 | Loss: 182.21721589565277\n",
            "Epoch  51 | Loss: 180.16250199079514\n",
            "Epoch  52 | Loss: 178.28160387277603\n",
            "Epoch  53 | Loss: 176.44291228055954\n",
            "Epoch  54 | Loss: 174.56849646568298\n",
            "Epoch  55 | Loss: 172.89053201675415\n",
            "Epoch  56 | Loss: 171.31451219320297\n",
            "Epoch  57 | Loss: 169.74201065301895\n",
            "Epoch  58 | Loss: 168.17868769168854\n",
            "Epoch  59 | Loss: 166.79023134708405\n",
            "Epoch  60 | Loss: 165.4381473660469\n",
            "Epoch  61 | Loss: 164.26654505729675\n",
            "Epoch  62 | Loss: 162.9121949672699\n",
            "Epoch  63 | Loss: 161.65084850788116\n",
            "Epoch  64 | Loss: 160.34576797485352\n",
            "Epoch  65 | Loss: 159.22857040166855\n",
            "Epoch  66 | Loss: 158.23640859127045\n",
            "Epoch  67 | Loss: 157.18530923128128\n",
            "Epoch  68 | Loss: 156.22253000736237\n",
            "Epoch  69 | Loss: 155.23473849892616\n",
            "Epoch  70 | Loss: 154.39318603277206\n",
            "Epoch  71 | Loss: 153.48813632130623\n",
            "Epoch  72 | Loss: 152.51333010196686\n",
            "Epoch  73 | Loss: 151.6313153207302\n",
            "Epoch  74 | Loss: 150.76070645451546\n",
            "Epoch  75 | Loss: 150.08046132326126\n",
            "Epoch  76 | Loss: 149.39899697899818\n",
            "Epoch  77 | Loss: 148.7038190662861\n",
            "Epoch  78 | Loss: 147.79747194051743\n",
            "Epoch  79 | Loss: 147.21397411823273\n",
            "Epoch  80 | Loss: 146.5476844906807\n",
            "Epoch  81 | Loss: 145.919242978096\n",
            "Epoch  82 | Loss: 145.40864235162735\n",
            "Epoch  83 | Loss: 144.61988851428032\n",
            "Epoch  84 | Loss: 144.09465363621712\n",
            "Epoch  85 | Loss: 143.5460961163044\n",
            "Epoch  86 | Loss: 142.9356166124344\n",
            "Epoch  87 | Loss: 142.4024334847927\n",
            "Epoch  88 | Loss: 141.99046644568443\n",
            "Epoch  89 | Loss: 141.4609826207161\n",
            "Epoch  90 | Loss: 140.97419998049736\n",
            "Epoch  91 | Loss: 140.30365750193596\n",
            "Epoch  92 | Loss: 139.95082458853722\n",
            "Epoch  93 | Loss: 139.6167720258236\n",
            "Epoch  94 | Loss: 138.99822321534157\n",
            "Epoch  95 | Loss: 138.5532931983471\n",
            "Epoch  96 | Loss: 138.0765840113163\n",
            "Epoch  97 | Loss: 137.68758881092072\n",
            "Epoch  98 | Loss: 137.2821892797947\n",
            "Epoch  99 | Loss: 136.9781849682331\n"
          ]
        }
      ]
    },
    {
      "cell_type": "code",
      "source": [
        "idx = 0\n",
        "\n",
        "x = trainset[idx][0][None]  # (1, 1, 28, 28)\n",
        "x = x.to('cuda')\n",
        "\n",
        "print(model(x))\n",
        "print(trainset[idx][1])"
      ],
      "metadata": {
        "id": "Zct0ssSKwjt1",
        "colab": {
          "base_uri": "https://localhost:8080/"
        },
        "outputId": "38613242-1fbe-4705-806c-93607d8c3586"
      },
      "execution_count": null,
      "outputs": [
        {
          "output_type": "stream",
          "name": "stdout",
          "text": [
            "tensor([[2.4686, 0.0000, 0.3620, 4.6814, 0.0000, 4.7054, 0.0000, 0.0000, 0.8011,\n",
            "         0.0000]], device='cuda:0', grad_fn=<ReluBackward0>)\n",
            "5\n"
          ]
        }
      ]
    },
    {
      "cell_type": "code",
      "source": [
        "import numpy as np\n",
        "\n",
        "def plot_acc(train_accs, test_accs, label1='train', label2='test'):\n",
        "  x = np.arange(len(train_accs))\n",
        "\n",
        "  plt.plot(x, train_accs, label=label1)\n",
        "  plt.plot(x, test_accs, label=label2)\n",
        "  plt.legend()\n",
        "  plt.show()"
      ],
      "metadata": {
        "id": "zonkPqWGqlbx"
      },
      "execution_count": null,
      "outputs": []
    },
    {
      "cell_type": "code",
      "source": [
        "plot_acc(train_accs,test_accs)"
      ],
      "metadata": {
        "colab": {
          "base_uri": "https://localhost:8080/",
          "height": 430
        },
        "id": "m6s13souF0J0",
        "outputId": "5a91aa44-f627-4a19-f1a3-ecdf0a1be67f"
      },
      "execution_count": null,
      "outputs": [
        {
          "output_type": "display_data",
          "data": {
            "text/plain": [
              "<Figure size 640x480 with 1 Axes>"
            ],
            "image/png": "[encoded data removed]"
          },
          "metadata": {}
        }
      ]
    },
    {
      "cell_type": "markdown",
      "source": [
        "메모\n",
        "\n"
      ],
      "metadata": {
        "id": "DD6O9brrPYXq"
      }
    }
  ]
}